{
 "cells": [
  {
   "cell_type": "code",
   "execution_count": null,
   "id": "25b49289-f561-44f8-be0c-a2c502c05dd0",
   "metadata": {},
   "outputs": [],
   "source": [
    "\n",
    "## Displaying the data for further data cleaning and analysis"
   ]
  },
  {
   "cell_type": "code",
   "execution_count": null,
   "id": "8f520f1e-b0ef-41fd-a08e-29fd7b95f0f2",
   "metadata": {},
   "outputs": [],
   "source": [
    "import json\n",
    "\n",
    "# Load the JSON file\n",
    "def load_data(filename):\n",
    "    with open(filename, \"r\") as file:\n",
    "        data = json.load(file)\n",
    "    return data\n",
    "\n",
    "# Display users and their connections\n",
    "def display_users(data):\n",
    "    print(\"Users and Their Connections:\\n\")\n",
    "    for user in data[\"users\"]:\n",
    "        print(f\"{user['name']} (ID: {user['id']}) - Friends: {user['friends']} - Liked Pages: {user['liked_pages']}\")\n",
    "    print(\"\\nPages:\\n\")\n",
    "    for page in data[\"pages\"]:\n",
    "        print(f\"{page['id']}: {page['name']}\")\n",
    "\n",
    "# Load and display the data\n",
    "data = load_data(\"data.json\")\n",
    "display_users(data)\n"
   ]
  },
  {
   "cell_type": "markdown",
   "id": "d8ae21cd-73ba-49bc-9091-b4c21c6bea65",
   "metadata": {},
   "source": [
    "## Data Cleaning"
   ]
  },
  {
   "cell_type": "code",
   "execution_count": null,
   "id": "e35344fe-df84-4fec-9bae-7331f0460a15",
   "metadata": {},
   "outputs": [],
   "source": [
    "def clean_data(data):\n",
    "    # Remove users with missing names\n",
    "    data[\"users\"] = [user for user in data[\"users\"] if user[\"name\"].strip()]\n",
    "    \n",
    "    # Remove duplicate friends\n",
    "    for user in data[\"users\"]:\n",
    "        user[\"friends\"] = list(set(user[\"friends\"]))\n",
    "    \n",
    "    # Remove inactive users\n",
    "    data[\"users\"] = [user for user in data[\"users\"] if user[\"friends\"] or user[\"liked_pages\"]]\n",
    "    \n",
    "    # Remove duplicate pages\n",
    "    unique_pages = {}\n",
    "    for page in data[\"pages\"]:\n",
    "        unique_pages[page[\"id\"]] = page\n",
    "    data[\"pages\"] = list(unique_pages.values())\n",
    "    \n",
    "    return data\n",
    "# Load, clean, and display the cleaned data\n",
    "data = json.load(open(\"codebook_data.json\"))\n",
    "data = clean_data(data)\n",
    "json.dump(data, open(\"cleaned_codebook_data.json\", \"w\"), indent=4)\n",
    "print(\"Data cleaned successfully!\")\n",
    "\n",
    "def load_data(filename):\n",
    "    with open(filename, \"r\") as file:\n",
    "        return json.load(file)"
   ]
  },
  {
   "cell_type": "markdown",
   "id": "5ca0edbc-57e5-4e19-9e7d-4ff0421b68dc",
   "metadata": {},
   "source": [
    "## Finding \"People you may know\""
   ]
  },
  {
   "cell_type": "code",
   "execution_count": null,
   "id": "09491d07-6c03-4b58-9c9a-577cefb7e1a5",
   "metadata": {},
   "outputs": [],
   "source": [
    "def find_people_you_may_know(user_id, data):\n",
    "    user_friends = {}\n",
    "    for user in data[\"users\"]:\n",
    "        user_friends[user[\"id\"]] = set(user[\"friends\"])\n",
    "    \n",
    "    if user_id not in user_friends:\n",
    "        return []\n",
    "    \n",
    "    direct_friends = user_friends[user_id]\n",
    "    suggestions = {}\n",
    "    \n",
    "    for friend in direct_friends:\n",
    "        # For all friends of friend\n",
    "        for mutual in user_friends[friend]:\n",
    "            # If mutual id is not the same user and not already a direct friend of user\n",
    "            if mutual != user_id and mutual not in direct_friends:\n",
    "                # Count mutual friends\n",
    "                suggestions[mutual] = suggestions.get(mutual, 0) + 1\n",
    "    sorted_suggestions = sorted(suggestions.items(), key=lambda x: x[1], reverse=True)\n",
    "    return [user_id for user_id, _ in sorted_suggestions]\n",
    "\n",
    "# Load data\n",
    "data = load_data(\"cleaned_codebook_data.json\")\n",
    "user_id = 1  # Example: Finding suggestions for Amit\n",
    "recommendations = find_people_you_may_know(user_id, data)\n",
    "print(f\"People You May Know for User {user_id}: {recommendations}\")\n",
    "\n",
    "# Function to load JSON data from a file\n",
    "def load_data(filename):\n",
    "    with open(filename, \"r\") as file:\n",
    "        return json.load(file)\n",
    "    "
   ]
  },
  {
   "cell_type": "markdown",
   "id": "cb131599-a6b3-4a5d-b64d-02a14cfab92e",
   "metadata": {},
   "source": [
    "## Finding \"Pages you may like\""
   ]
  },
  {
   "cell_type": "code",
   "execution_count": null,
   "id": "1bc0a147-577c-40fb-99ed-290b9f4d32b8",
   "metadata": {},
   "outputs": [],
   "source": [
    "# Function to find pages a user might like based on common interests\n",
    "def find_pages_you_might_like(user_id, data):\n",
    "    # Dictionary to store user interactions with pages\n",
    "    user_pages = {}\n",
    "    for user in data[\"users\"]:\n",
    "        user_pages[user[\"id\"]] = set(user[\"liked_pages\"])\n",
    "    \n",
    "    # If the user is not found, return an empty list\n",
    "    if user_id not in user_pages:\n",
    "        return []\n",
    "    \n",
    "    user_liked_pages = user_pages[user_id]\n",
    "    page_suggestions = {}\n",
    "    \n",
    "    for other_user, pages in user_pages.items():\n",
    "        if other_user != user_id:\n",
    "            shared_pages = user_liked_pages.intersection(pages)\n",
    "            for page in pages:\n",
    "                if page not in user_liked_pages:\n",
    "                    page_suggestions[page] = page_suggestions.get(page, 0) + len(shared_pages)\n",
    "    \n",
    "    # Sort recommended pages based on the number of shared interactions\n",
    "    sorted_pages = sorted(page_suggestions.items(), key=lambda x: x[1], reverse=True)\n",
    "    return [page_id for page_id, _ in sorted_pages]\n",
    "# Load data\n",
    "data = load_data(\"cleaned_codebook_data.json\")\n",
    "user_id = 1  # Example: Finding recommendations for Amit\n",
    "page_recommendations = find_pages_you_might_like(user_id, data)\n",
    "print(f\"Pages You Might Like for User {user_id}: {page_recommendations}\")"
   ]
  }
 ],
 "metadata": {
  "kernelspec": {
   "display_name": "Python 3 (ipykernel)",
   "language": "python",
   "name": "python3"
  },
  "language_info": {
   "codemirror_mode": {
    "name": "ipython",
    "version": 3
   },
   "file_extension": ".py",
   "mimetype": "text/x-python",
   "name": "python",
   "nbconvert_exporter": "python",
   "pygments_lexer": "ipython3",
   "version": "3.12.7"
  }
 },
 "nbformat": 4,
 "nbformat_minor": 5
}
